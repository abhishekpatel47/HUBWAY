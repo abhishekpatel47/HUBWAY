{
 "cells": [
  {
   "cell_type": "markdown",
   "metadata": {},
   "source": [
    "# HUBWAY DATASET"
   ]
  },
  {
   "cell_type": "markdown",
   "metadata": {},
   "source": [
    "#### This is the subset of Hubway dataset. This database contains the records of all the trips that took place in the month of January 2015. The dataset contains following attributes:\n",
    "* tripduration - trip duration in seconds\n",
    "* starttime - time and date at which trip started \n",
    "* stoptime - time and date at which trip stopped \n",
    "* start_station_id - unique station id from where the trip started\n",
    "* start_station_name - station name from where the trip started\n",
    "* start_station_latitude - latitude of start station\n",
    "* start_station_longitude - longitude of start station\n",
    "* end_station_id - unique station id where the trip ended\n",
    "* end_station_name - station name where the trip ended\n",
    "* end_station_latitude - latitude of end station\n",
    "* end_station_longitude - longitude of end station\n",
    "* bikeid - unique bike id of each hubway bike\n",
    "* usertype - types of hubway users (Subscriber or Customer)\n",
    "* birth_year - birth year of user\n",
    "* gender - sex of user (male, female or other)"
   ]
  },
  {
   "cell_type": "markdown",
   "metadata": {},
   "source": [
    "#### Some of the questions I intend to answer through this dataset are:\n",
    "* Which are the more popular hubway stations\n",
    "* Which are the more popular hubway bikes\n",
    "* Number of users with respect to gender and user type\n",
    "* Which was the most popular week in the month of January 2015\n",
    "* Forecast the future user types with respect to trip duration and location of start station and end station"
   ]
  },
  {
   "cell_type": "markdown",
   "metadata": {},
   "source": [
    "## 1. Data Extraction"
   ]
  },
  {
   "cell_type": "code",
   "execution_count": 2,
   "metadata": {},
   "outputs": [
    {
     "name": "stderr",
     "output_type": "stream",
     "text": [
      "/anaconda3/lib/python3.6/site-packages/statsmodels/compat/pandas.py:56: FutureWarning: The pandas.core.datetools module is deprecated and will be removed in a future version. Please use the pandas.tseries module instead.\n",
      "  from pandas.core import datetools\n"
     ]
    }
   ],
   "source": [
    "import numpy as np\n",
    "import pandas as pd\n",
    "import matplotlib.pyplot as plt\n",
    "import seaborn as sns\n",
    "import statsmodels.api as sm\n",
    "import statsmodels.formula.api as smf\n",
    "import sklearn\n",
    "from patsy import dmatrices\n",
    "from sklearn import linear_model\n",
    "from sklearn import ensemble\n",
    "from sklearn.ensemble import GradientBoostingRegressor\n",
    "from sklearn.metrics import accuracy_score\n",
    "import time\n",
    "import datetime"
   ]
  },
  {
   "cell_type": "code",
   "execution_count": 3,
   "metadata": {
    "scrolled": true
   },
   "outputs": [
    {
     "data": {
      "text/html": [
       "<div>\n",
       "<style scoped>\n",
       "    .dataframe tbody tr th:only-of-type {\n",
       "        vertical-align: middle;\n",
       "    }\n",
       "\n",
       "    .dataframe tbody tr th {\n",
       "        vertical-align: top;\n",
       "    }\n",
       "\n",
       "    .dataframe thead th {\n",
       "        text-align: right;\n",
       "    }\n",
       "</style>\n",
       "<table border=\"1\" class=\"dataframe\">\n",
       "  <thead>\n",
       "    <tr style=\"text-align: right;\">\n",
       "      <th></th>\n",
       "      <th>tripduration</th>\n",
       "      <th>starttime</th>\n",
       "      <th>stoptime</th>\n",
       "      <th>start_station_id</th>\n",
       "      <th>start_station_name</th>\n",
       "      <th>start_station_latitude</th>\n",
       "      <th>start_station_longitude</th>\n",
       "      <th>end_station_id</th>\n",
       "      <th>end_station_name</th>\n",
       "      <th>end_station_latitude</th>\n",
       "      <th>end_station_longitude</th>\n",
       "      <th>bikeid</th>\n",
       "      <th>usertype</th>\n",
       "      <th>birth_year</th>\n",
       "      <th>gender</th>\n",
       "    </tr>\n",
       "  </thead>\n",
       "  <tbody>\n",
       "    <tr>\n",
       "      <th>0</th>\n",
       "      <td>542</td>\n",
       "      <td>1/1/15 0:21</td>\n",
       "      <td>1/1/15 0:30</td>\n",
       "      <td>115</td>\n",
       "      <td>Porter Square Station</td>\n",
       "      <td>42.387995</td>\n",
       "      <td>-71.119084</td>\n",
       "      <td>96</td>\n",
       "      <td>Cambridge Main Library at Broadway / Trowbridg...</td>\n",
       "      <td>42.373379</td>\n",
       "      <td>-71.111075</td>\n",
       "      <td>277</td>\n",
       "      <td>Subscriber</td>\n",
       "      <td>1984</td>\n",
       "      <td>1</td>\n",
       "    </tr>\n",
       "    <tr>\n",
       "      <th>1</th>\n",
       "      <td>438</td>\n",
       "      <td>1/1/15 0:27</td>\n",
       "      <td>1/1/15 0:34</td>\n",
       "      <td>80</td>\n",
       "      <td>MIT Stata Center at Vassar St / Main St</td>\n",
       "      <td>42.361962</td>\n",
       "      <td>-71.092053</td>\n",
       "      <td>95</td>\n",
       "      <td>Cambridge St - at Columbia St / Webster Ave</td>\n",
       "      <td>42.372969</td>\n",
       "      <td>-71.094445</td>\n",
       "      <td>648</td>\n",
       "      <td>Subscriber</td>\n",
       "      <td>1985</td>\n",
       "      <td>1</td>\n",
       "    </tr>\n",
       "    <tr>\n",
       "      <th>2</th>\n",
       "      <td>254</td>\n",
       "      <td>1/1/15 0:31</td>\n",
       "      <td>1/1/15 0:35</td>\n",
       "      <td>91</td>\n",
       "      <td>One Kendall Square at Hampshire St / Portland St</td>\n",
       "      <td>42.366277</td>\n",
       "      <td>-71.091690</td>\n",
       "      <td>68</td>\n",
       "      <td>Central Square at Mass Ave / Essex St</td>\n",
       "      <td>42.365070</td>\n",
       "      <td>-71.103100</td>\n",
       "      <td>555</td>\n",
       "      <td>Subscriber</td>\n",
       "      <td>1974</td>\n",
       "      <td>1</td>\n",
       "    </tr>\n",
       "    <tr>\n",
       "      <th>3</th>\n",
       "      <td>432</td>\n",
       "      <td>1/1/15 0:53</td>\n",
       "      <td>1/1/15 1:00</td>\n",
       "      <td>115</td>\n",
       "      <td>Porter Square Station</td>\n",
       "      <td>42.387995</td>\n",
       "      <td>-71.119084</td>\n",
       "      <td>96</td>\n",
       "      <td>Cambridge Main Library at Broadway / Trowbridg...</td>\n",
       "      <td>42.373379</td>\n",
       "      <td>-71.111075</td>\n",
       "      <td>1307</td>\n",
       "      <td>Subscriber</td>\n",
       "      <td>1987</td>\n",
       "      <td>1</td>\n",
       "    </tr>\n",
       "    <tr>\n",
       "      <th>4</th>\n",
       "      <td>735</td>\n",
       "      <td>1/1/15 1:07</td>\n",
       "      <td>1/1/15 1:19</td>\n",
       "      <td>105</td>\n",
       "      <td>Lower Cambridgeport at Magazine St/Riverside Rd</td>\n",
       "      <td>42.356954</td>\n",
       "      <td>-71.113687</td>\n",
       "      <td>88</td>\n",
       "      <td>Inman Square at Vellucci Plaza / Hampshire St</td>\n",
       "      <td>42.374035</td>\n",
       "      <td>-71.101427</td>\n",
       "      <td>177</td>\n",
       "      <td>Customer</td>\n",
       "      <td>1986</td>\n",
       "      <td>2</td>\n",
       "    </tr>\n",
       "  </tbody>\n",
       "</table>\n",
       "</div>"
      ],
      "text/plain": [
       "   tripduration    starttime     stoptime  start_station_id  \\\n",
       "0           542  1/1/15 0:21  1/1/15 0:30               115   \n",
       "1           438  1/1/15 0:27  1/1/15 0:34                80   \n",
       "2           254  1/1/15 0:31  1/1/15 0:35                91   \n",
       "3           432  1/1/15 0:53  1/1/15 1:00               115   \n",
       "4           735  1/1/15 1:07  1/1/15 1:19               105   \n",
       "\n",
       "                                 start_station_name  start_station_latitude  \\\n",
       "0                             Porter Square Station               42.387995   \n",
       "1           MIT Stata Center at Vassar St / Main St               42.361962   \n",
       "2  One Kendall Square at Hampshire St / Portland St               42.366277   \n",
       "3                             Porter Square Station               42.387995   \n",
       "4   Lower Cambridgeport at Magazine St/Riverside Rd               42.356954   \n",
       "\n",
       "   start_station_longitude  end_station_id  \\\n",
       "0               -71.119084              96   \n",
       "1               -71.092053              95   \n",
       "2               -71.091690              68   \n",
       "3               -71.119084              96   \n",
       "4               -71.113687              88   \n",
       "\n",
       "                                    end_station_name  end_station_latitude  \\\n",
       "0  Cambridge Main Library at Broadway / Trowbridg...             42.373379   \n",
       "1        Cambridge St - at Columbia St / Webster Ave             42.372969   \n",
       "2              Central Square at Mass Ave / Essex St             42.365070   \n",
       "3  Cambridge Main Library at Broadway / Trowbridg...             42.373379   \n",
       "4      Inman Square at Vellucci Plaza / Hampshire St             42.374035   \n",
       "\n",
       "   end_station_longitude  bikeid    usertype birth_year  gender  \n",
       "0             -71.111075     277  Subscriber       1984       1  \n",
       "1             -71.094445     648  Subscriber       1985       1  \n",
       "2             -71.103100     555  Subscriber       1974       1  \n",
       "3             -71.111075    1307  Subscriber       1987       1  \n",
       "4             -71.101427     177    Customer       1986       2  "
      ]
     },
     "execution_count": 3,
     "metadata": {},
     "output_type": "execute_result"
    }
   ],
   "source": [
    "#LOADING THE DATASET\n",
    "\n",
    "hubway = pd.read_csv(\"https://raw.githubusercontent.com/abhishekpatel47/Hello-world/master/201501-hubway-tripdata.csv\")\n",
    "hubway.head(5)"
   ]
  },
  {
   "cell_type": "markdown",
   "metadata": {},
   "source": [
    "## 2. Data Cleaning"
   ]
  },
  {
   "cell_type": "code",
   "execution_count": 4,
   "metadata": {},
   "outputs": [
    {
     "name": "stdout",
     "output_type": "stream",
     "text": [
      "tripduration               0\n",
      "starttime                  0\n",
      "stoptime                   0\n",
      "start_station_id           0\n",
      "start_station_name         0\n",
      "start_station_latitude     0\n",
      "start_station_longitude    0\n",
      "end_station_id             0\n",
      "end_station_name           0\n",
      "end_station_latitude       0\n",
      "end_station_longitude      0\n",
      "bikeid                     0\n",
      "usertype                   0\n",
      "birth_year                 0\n",
      "gender                     0\n",
      "dtype: int64\n"
     ]
    }
   ],
   "source": [
    "#CHECKING IF THERE ARE ANY NULL VALUES\n",
    "\n",
    "hubway.dropna()\n",
    "print(hubway.isnull().sum())"
   ]
  },
  {
   "cell_type": "code",
   "execution_count": 5,
   "metadata": {},
   "outputs": [
    {
     "name": "stdout",
     "output_type": "stream",
     "text": [
      "<class 'pandas.core.frame.DataFrame'>\n",
      "RangeIndex: 7840 entries, 0 to 7839\n",
      "Data columns (total 15 columns):\n",
      "tripduration               7840 non-null int64\n",
      "starttime                  7840 non-null object\n",
      "stoptime                   7840 non-null object\n",
      "start_station_id           7840 non-null int64\n",
      "start_station_name         7840 non-null object\n",
      "start_station_latitude     7840 non-null float64\n",
      "start_station_longitude    7840 non-null float64\n",
      "end_station_id             7840 non-null int64\n",
      "end_station_name           7840 non-null object\n",
      "end_station_latitude       7840 non-null float64\n",
      "end_station_longitude      7840 non-null float64\n",
      "bikeid                     7840 non-null int64\n",
      "usertype                   7840 non-null object\n",
      "birth_year                 7840 non-null object\n",
      "gender                     7840 non-null int64\n",
      "dtypes: float64(4), int64(5), object(6)\n",
      "memory usage: 918.8+ KB\n"
     ]
    }
   ],
   "source": [
    "#CHECKING ALL THE COLUMNS AND THEIR DATA TYPE\n",
    "\n",
    "hubway.info()"
   ]
  },
  {
   "cell_type": "code",
   "execution_count": 6,
   "metadata": {},
   "outputs": [
    {
     "name": "stdout",
     "output_type": "stream",
     "text": [
      "<class 'pandas.core.frame.DataFrame'>\n",
      "RangeIndex: 7840 entries, 0 to 7839\n",
      "Data columns (total 15 columns):\n",
      "tripduration               7840 non-null int64\n",
      "starttime                  7840 non-null datetime64[ns]\n",
      "stoptime                   7840 non-null datetime64[ns]\n",
      "start_station_id           7840 non-null int64\n",
      "start_station_name         7840 non-null object\n",
      "start_station_latitude     7840 non-null float64\n",
      "start_station_longitude    7840 non-null float64\n",
      "end_station_id             7840 non-null int64\n",
      "end_station_name           7840 non-null object\n",
      "end_station_latitude       7840 non-null float64\n",
      "end_station_longitude      7840 non-null float64\n",
      "bikeid                     7840 non-null int64\n",
      "usertype                   7840 non-null object\n",
      "birth_year                 7840 non-null object\n",
      "gender                     7840 non-null int64\n",
      "dtypes: datetime64[ns](2), float64(4), int64(5), object(4)\n",
      "memory usage: 918.8+ KB\n"
     ]
    }
   ],
   "source": [
    "# CONVERTING 'starttime' and 'stoptime' to datetime DATATYPE\n",
    "\n",
    "hubway['starttime'] = pd.to_datetime(hubway['starttime'])\n",
    "hubway['stoptime'] = pd.to_datetime(hubway['stoptime'])\n",
    "hubway.info()"
   ]
  },
  {
   "cell_type": "code",
   "execution_count": 7,
   "metadata": {},
   "outputs": [],
   "source": [
    "#EXTRACTING START DATE FROM DATE TIME TYPE COLUMN 'starttime' AND CALLING IT 'date_minus_time' TO FURTHER CALCULATE\n",
    "#BUSSIEST WEEK IN THE MONTH OF JANUARY 2015\n",
    "\n",
    "import time\n",
    "import datetime\n",
    "hubway['date_minus_time'] = hubway['starttime'].apply(lambda hubway : datetime.datetime(year = hubway.year, month = hubway.month, day = hubway.day))\n",
    "hubway.set_index(hubway['date_minus_time'], inplace = True)\n"
   ]
  },
  {
   "cell_type": "code",
   "execution_count": 8,
   "metadata": {
    "scrolled": true
   },
   "outputs": [
    {
     "data": {
      "text/html": [
       "<div>\n",
       "<style scoped>\n",
       "    .dataframe tbody tr th:only-of-type {\n",
       "        vertical-align: middle;\n",
       "    }\n",
       "\n",
       "    .dataframe tbody tr th {\n",
       "        vertical-align: top;\n",
       "    }\n",
       "\n",
       "    .dataframe thead th {\n",
       "        text-align: right;\n",
       "    }\n",
       "</style>\n",
       "<table border=\"1\" class=\"dataframe\">\n",
       "  <thead>\n",
       "    <tr style=\"text-align: right;\">\n",
       "      <th></th>\n",
       "      <th>tripduration</th>\n",
       "      <th>starttime</th>\n",
       "      <th>stoptime</th>\n",
       "      <th>start_station_id</th>\n",
       "      <th>start_station_name</th>\n",
       "      <th>start_station_latitude</th>\n",
       "      <th>start_station_longitude</th>\n",
       "      <th>end_station_id</th>\n",
       "      <th>end_station_name</th>\n",
       "      <th>end_station_latitude</th>\n",
       "      <th>end_station_longitude</th>\n",
       "      <th>bikeid</th>\n",
       "      <th>usertype</th>\n",
       "      <th>birth_year</th>\n",
       "      <th>gender</th>\n",
       "      <th>date_minus_time</th>\n",
       "    </tr>\n",
       "    <tr>\n",
       "      <th>date_minus_time</th>\n",
       "      <th></th>\n",
       "      <th></th>\n",
       "      <th></th>\n",
       "      <th></th>\n",
       "      <th></th>\n",
       "      <th></th>\n",
       "      <th></th>\n",
       "      <th></th>\n",
       "      <th></th>\n",
       "      <th></th>\n",
       "      <th></th>\n",
       "      <th></th>\n",
       "      <th></th>\n",
       "      <th></th>\n",
       "      <th></th>\n",
       "      <th></th>\n",
       "    </tr>\n",
       "  </thead>\n",
       "  <tbody>\n",
       "    <tr>\n",
       "      <th>2015-01-01</th>\n",
       "      <td>542</td>\n",
       "      <td>2015-01-01 00:21:00</td>\n",
       "      <td>2015-01-01 00:30:00</td>\n",
       "      <td>115</td>\n",
       "      <td>Porter Square Station</td>\n",
       "      <td>42.387995</td>\n",
       "      <td>-71.119084</td>\n",
       "      <td>96</td>\n",
       "      <td>Cambridge Main Library at Broadway / Trowbridg...</td>\n",
       "      <td>42.373379</td>\n",
       "      <td>-71.111075</td>\n",
       "      <td>277</td>\n",
       "      <td>1</td>\n",
       "      <td>1984</td>\n",
       "      <td>1</td>\n",
       "      <td>2015-01-01</td>\n",
       "    </tr>\n",
       "    <tr>\n",
       "      <th>2015-01-01</th>\n",
       "      <td>438</td>\n",
       "      <td>2015-01-01 00:27:00</td>\n",
       "      <td>2015-01-01 00:34:00</td>\n",
       "      <td>80</td>\n",
       "      <td>MIT Stata Center at Vassar St / Main St</td>\n",
       "      <td>42.361962</td>\n",
       "      <td>-71.092053</td>\n",
       "      <td>95</td>\n",
       "      <td>Cambridge St - at Columbia St / Webster Ave</td>\n",
       "      <td>42.372969</td>\n",
       "      <td>-71.094445</td>\n",
       "      <td>648</td>\n",
       "      <td>1</td>\n",
       "      <td>1985</td>\n",
       "      <td>1</td>\n",
       "      <td>2015-01-01</td>\n",
       "    </tr>\n",
       "    <tr>\n",
       "      <th>2015-01-01</th>\n",
       "      <td>254</td>\n",
       "      <td>2015-01-01 00:31:00</td>\n",
       "      <td>2015-01-01 00:35:00</td>\n",
       "      <td>91</td>\n",
       "      <td>One Kendall Square at Hampshire St / Portland St</td>\n",
       "      <td>42.366277</td>\n",
       "      <td>-71.091690</td>\n",
       "      <td>68</td>\n",
       "      <td>Central Square at Mass Ave / Essex St</td>\n",
       "      <td>42.365070</td>\n",
       "      <td>-71.103100</td>\n",
       "      <td>555</td>\n",
       "      <td>1</td>\n",
       "      <td>1974</td>\n",
       "      <td>1</td>\n",
       "      <td>2015-01-01</td>\n",
       "    </tr>\n",
       "    <tr>\n",
       "      <th>2015-01-01</th>\n",
       "      <td>432</td>\n",
       "      <td>2015-01-01 00:53:00</td>\n",
       "      <td>2015-01-01 01:00:00</td>\n",
       "      <td>115</td>\n",
       "      <td>Porter Square Station</td>\n",
       "      <td>42.387995</td>\n",
       "      <td>-71.119084</td>\n",
       "      <td>96</td>\n",
       "      <td>Cambridge Main Library at Broadway / Trowbridg...</td>\n",
       "      <td>42.373379</td>\n",
       "      <td>-71.111075</td>\n",
       "      <td>1307</td>\n",
       "      <td>1</td>\n",
       "      <td>1987</td>\n",
       "      <td>1</td>\n",
       "      <td>2015-01-01</td>\n",
       "    </tr>\n",
       "    <tr>\n",
       "      <th>2015-01-01</th>\n",
       "      <td>735</td>\n",
       "      <td>2015-01-01 01:07:00</td>\n",
       "      <td>2015-01-01 01:19:00</td>\n",
       "      <td>105</td>\n",
       "      <td>Lower Cambridgeport at Magazine St/Riverside Rd</td>\n",
       "      <td>42.356954</td>\n",
       "      <td>-71.113687</td>\n",
       "      <td>88</td>\n",
       "      <td>Inman Square at Vellucci Plaza / Hampshire St</td>\n",
       "      <td>42.374035</td>\n",
       "      <td>-71.101427</td>\n",
       "      <td>177</td>\n",
       "      <td>0</td>\n",
       "      <td>1986</td>\n",
       "      <td>2</td>\n",
       "      <td>2015-01-01</td>\n",
       "    </tr>\n",
       "  </tbody>\n",
       "</table>\n",
       "</div>"
      ],
      "text/plain": [
       "                 tripduration           starttime            stoptime  \\\n",
       "date_minus_time                                                         \n",
       "2015-01-01                542 2015-01-01 00:21:00 2015-01-01 00:30:00   \n",
       "2015-01-01                438 2015-01-01 00:27:00 2015-01-01 00:34:00   \n",
       "2015-01-01                254 2015-01-01 00:31:00 2015-01-01 00:35:00   \n",
       "2015-01-01                432 2015-01-01 00:53:00 2015-01-01 01:00:00   \n",
       "2015-01-01                735 2015-01-01 01:07:00 2015-01-01 01:19:00   \n",
       "\n",
       "                 start_station_id  \\\n",
       "date_minus_time                     \n",
       "2015-01-01                    115   \n",
       "2015-01-01                     80   \n",
       "2015-01-01                     91   \n",
       "2015-01-01                    115   \n",
       "2015-01-01                    105   \n",
       "\n",
       "                                               start_station_name  \\\n",
       "date_minus_time                                                     \n",
       "2015-01-01                                  Porter Square Station   \n",
       "2015-01-01                MIT Stata Center at Vassar St / Main St   \n",
       "2015-01-01       One Kendall Square at Hampshire St / Portland St   \n",
       "2015-01-01                                  Porter Square Station   \n",
       "2015-01-01        Lower Cambridgeport at Magazine St/Riverside Rd   \n",
       "\n",
       "                 start_station_latitude  start_station_longitude  \\\n",
       "date_minus_time                                                    \n",
       "2015-01-01                    42.387995               -71.119084   \n",
       "2015-01-01                    42.361962               -71.092053   \n",
       "2015-01-01                    42.366277               -71.091690   \n",
       "2015-01-01                    42.387995               -71.119084   \n",
       "2015-01-01                    42.356954               -71.113687   \n",
       "\n",
       "                 end_station_id  \\\n",
       "date_minus_time                   \n",
       "2015-01-01                   96   \n",
       "2015-01-01                   95   \n",
       "2015-01-01                   68   \n",
       "2015-01-01                   96   \n",
       "2015-01-01                   88   \n",
       "\n",
       "                                                  end_station_name  \\\n",
       "date_minus_time                                                      \n",
       "2015-01-01       Cambridge Main Library at Broadway / Trowbridg...   \n",
       "2015-01-01             Cambridge St - at Columbia St / Webster Ave   \n",
       "2015-01-01                   Central Square at Mass Ave / Essex St   \n",
       "2015-01-01       Cambridge Main Library at Broadway / Trowbridg...   \n",
       "2015-01-01           Inman Square at Vellucci Plaza / Hampshire St   \n",
       "\n",
       "                 end_station_latitude  end_station_longitude  bikeid  \\\n",
       "date_minus_time                                                        \n",
       "2015-01-01                  42.373379             -71.111075     277   \n",
       "2015-01-01                  42.372969             -71.094445     648   \n",
       "2015-01-01                  42.365070             -71.103100     555   \n",
       "2015-01-01                  42.373379             -71.111075    1307   \n",
       "2015-01-01                  42.374035             -71.101427     177   \n",
       "\n",
       "                 usertype birth_year  gender date_minus_time  \n",
       "date_minus_time                                               \n",
       "2015-01-01              1       1984       1      2015-01-01  \n",
       "2015-01-01              1       1985       1      2015-01-01  \n",
       "2015-01-01              1       1974       1      2015-01-01  \n",
       "2015-01-01              1       1987       1      2015-01-01  \n",
       "2015-01-01              0       1986       2      2015-01-01  "
      ]
     },
     "execution_count": 8,
     "metadata": {},
     "output_type": "execute_result"
    }
   ],
   "source": [
    "#UPDATING CATEGORIAL VARIABLE 'usertype' INTO NUMERIC DATATYPE BY UPDATING 'Subscriber' = 1 and 'Customer' = 0\n",
    "\n",
    "hubway.loc[hubway['usertype'] == 'Subscriber', 'usertype'] = 1\n",
    "hubway.loc[hubway['usertype'] == 'Customer', 'usertype'] = 0\n",
    "hubway.head()"
   ]
  },
  {
   "cell_type": "code",
   "execution_count": 9,
   "metadata": {},
   "outputs": [
    {
     "name": "stdout",
     "output_type": "stream",
     "text": [
      "[1 0]\n"
     ]
    }
   ],
   "source": [
    "#TYPES OF USERS OF BIKE\n",
    "print(hubway.usertype.unique())"
   ]
  },
  {
   "cell_type": "markdown",
   "metadata": {},
   "source": [
    "## 3. Data Visualization"
   ]
  },
  {
   "cell_type": "code",
   "execution_count": 10,
   "metadata": {},
   "outputs": [
    {
     "data": {
      "text/html": [
       "<div>\n",
       "<style scoped>\n",
       "    .dataframe tbody tr th:only-of-type {\n",
       "        vertical-align: middle;\n",
       "    }\n",
       "\n",
       "    .dataframe tbody tr th {\n",
       "        vertical-align: top;\n",
       "    }\n",
       "\n",
       "    .dataframe thead th {\n",
       "        text-align: right;\n",
       "    }\n",
       "</style>\n",
       "<table border=\"1\" class=\"dataframe\">\n",
       "  <thead>\n",
       "    <tr style=\"text-align: right;\">\n",
       "      <th></th>\n",
       "      <th>bikeid</th>\n",
       "      <th>tripduration</th>\n",
       "    </tr>\n",
       "  </thead>\n",
       "  <tbody>\n",
       "    <tr>\n",
       "      <th>131</th>\n",
       "      <td>800</td>\n",
       "      <td>8083.193548</td>\n",
       "    </tr>\n",
       "    <tr>\n",
       "      <th>250</th>\n",
       "      <td>1081</td>\n",
       "      <td>5554.038462</td>\n",
       "    </tr>\n",
       "    <tr>\n",
       "      <th>203</th>\n",
       "      <td>956</td>\n",
       "      <td>4509.756098</td>\n",
       "    </tr>\n",
       "    <tr>\n",
       "      <th>107</th>\n",
       "      <td>766</td>\n",
       "      <td>2614.973684</td>\n",
       "    </tr>\n",
       "    <tr>\n",
       "      <th>178</th>\n",
       "      <td>894</td>\n",
       "      <td>2593.107143</td>\n",
       "    </tr>\n",
       "    <tr>\n",
       "      <th>240</th>\n",
       "      <td>1070</td>\n",
       "      <td>2551.421053</td>\n",
       "    </tr>\n",
       "    <tr>\n",
       "      <th>36</th>\n",
       "      <td>654</td>\n",
       "      <td>2496.551724</td>\n",
       "    </tr>\n",
       "    <tr>\n",
       "      <th>166</th>\n",
       "      <td>880</td>\n",
       "      <td>2242.405405</td>\n",
       "    </tr>\n",
       "    <tr>\n",
       "      <th>304</th>\n",
       "      <td>1279</td>\n",
       "      <td>1755.000000</td>\n",
       "    </tr>\n",
       "    <tr>\n",
       "      <th>63</th>\n",
       "      <td>690</td>\n",
       "      <td>1568.057143</td>\n",
       "    </tr>\n",
       "  </tbody>\n",
       "</table>\n",
       "</div>"
      ],
      "text/plain": [
       "     bikeid  tripduration\n",
       "131     800   8083.193548\n",
       "250    1081   5554.038462\n",
       "203     956   4509.756098\n",
       "107     766   2614.973684\n",
       "178     894   2593.107143\n",
       "240    1070   2551.421053\n",
       "36      654   2496.551724\n",
       "166     880   2242.405405\n",
       "304    1279   1755.000000\n",
       "63      690   1568.057143"
      ]
     },
     "execution_count": 10,
     "metadata": {},
     "output_type": "execute_result"
    }
   ],
   "source": [
    "#MOST POPULAR BIKES WITH THEIR AVG TRIPDURATION. THIS CAN ALLOW US TO KNOW WHICH TYPE OF BIKE MODELS ARE MOST POPULAR \n",
    "#AMONG THE USERS, SO WE CAN INCREASE THE NUMBER OF SUCH BIKES. \n",
    "\n",
    "\n",
    "h = hubway.groupby('bikeid')['tripduration'].mean().reset_index() #AVG TRIPDURATION FOR EACH BIKE\n",
    "h = h.sort_values(by = 'tripduration', ascending = False)[0:10] #SORTING THE DATAFRAME TO FIND TOP 10 BIKES\n",
    "h\n",
    "\n"
   ]
  },
  {
   "cell_type": "code",
   "execution_count": 11,
   "metadata": {},
   "outputs": [
    {
     "data": {
      "text/plain": [
       "<matplotlib.axes._subplots.AxesSubplot at 0x1c0eddc320>"
      ]
     },
     "execution_count": 11,
     "metadata": {},
     "output_type": "execute_result"
    },
    {
     "data": {
      "image/png": "[encoded data removed]",
      "text/plain": [
       "<matplotlib.figure.Figure at 0x1c0df75a58>"
      ]
     },
     "metadata": {},
     "output_type": "display_data"
    }
   ],
   "source": [
    "#PLOTTING MOST POPULAR BIKES\n",
    "\n",
    "h.plot(x = 'bikeid', y = 'tripduration', kind = 'bar', legend = False)"
   ]
  },
  {
   "cell_type": "code",
   "execution_count": 12,
   "metadata": {},
   "outputs": [
    {
     "data": {
      "text/html": [
       "<div>\n",
       "<style scoped>\n",
       "    .dataframe tbody tr th:only-of-type {\n",
       "        vertical-align: middle;\n",
       "    }\n",
       "\n",
       "    .dataframe tbody tr th {\n",
       "        vertical-align: top;\n",
       "    }\n",
       "\n",
       "    .dataframe thead th {\n",
       "        text-align: right;\n",
       "    }\n",
       "</style>\n",
       "<table border=\"1\" class=\"dataframe\">\n",
       "  <thead>\n",
       "    <tr style=\"text-align: right;\">\n",
       "      <th></th>\n",
       "      <th>start_station_name</th>\n",
       "      <th>count</th>\n",
       "    </tr>\n",
       "  </thead>\n",
       "  <tbody>\n",
       "    <tr>\n",
       "      <th>2</th>\n",
       "      <td>Ames St at Main St</td>\n",
       "      <td>564</td>\n",
       "    </tr>\n",
       "    <tr>\n",
       "      <th>27</th>\n",
       "      <td>MIT at Mass Ave / Amherst St</td>\n",
       "      <td>522</td>\n",
       "    </tr>\n",
       "    <tr>\n",
       "      <th>8</th>\n",
       "      <td>Central Square at Mass Ave / Essex St</td>\n",
       "      <td>497</td>\n",
       "    </tr>\n",
       "    <tr>\n",
       "      <th>29</th>\n",
       "      <td>One Kendall Square at Hampshire St / Portland St</td>\n",
       "      <td>451</td>\n",
       "    </tr>\n",
       "    <tr>\n",
       "      <th>20</th>\n",
       "      <td>Inman Square at Vellucci Plaza / Hampshire St</td>\n",
       "      <td>435</td>\n",
       "    </tr>\n",
       "    <tr>\n",
       "      <th>26</th>\n",
       "      <td>MIT Stata Center at Vassar St / Main St</td>\n",
       "      <td>399</td>\n",
       "    </tr>\n",
       "    <tr>\n",
       "      <th>7</th>\n",
       "      <td>Central Sq Post Office / Cambridge City Hall a...</td>\n",
       "      <td>373</td>\n",
       "    </tr>\n",
       "    <tr>\n",
       "      <th>5</th>\n",
       "      <td>Cambridge St - at Columbia St / Webster Ave</td>\n",
       "      <td>354</td>\n",
       "    </tr>\n",
       "    <tr>\n",
       "      <th>4</th>\n",
       "      <td>Cambridge Main Library at Broadway / Trowbridg...</td>\n",
       "      <td>318</td>\n",
       "    </tr>\n",
       "    <tr>\n",
       "      <th>0</th>\n",
       "      <td>359 Broadway - Broadway at Fayette Street</td>\n",
       "      <td>317</td>\n",
       "    </tr>\n",
       "  </tbody>\n",
       "</table>\n",
       "</div>"
      ],
      "text/plain": [
       "                                   start_station_name  count\n",
       "2                                  Ames St at Main St    564\n",
       "27                       MIT at Mass Ave / Amherst St    522\n",
       "8               Central Square at Mass Ave / Essex St    497\n",
       "29   One Kendall Square at Hampshire St / Portland St    451\n",
       "20      Inman Square at Vellucci Plaza / Hampshire St    435\n",
       "26            MIT Stata Center at Vassar St / Main St    399\n",
       "7   Central Sq Post Office / Cambridge City Hall a...    373\n",
       "5         Cambridge St - at Columbia St / Webster Ave    354\n",
       "4   Cambridge Main Library at Broadway / Trowbridg...    318\n",
       "0           359 Broadway - Broadway at Fayette Street    317"
      ]
     },
     "execution_count": 12,
     "metadata": {},
     "output_type": "execute_result"
    }
   ],
   "source": [
    "#MOST POPULAR STATIONS. THIS CAN ALLOW US TO KNOW WHERE THE POPULATION OF BIKES SHOULD BE THE MOST.\n",
    "\n",
    "h1 = hubway.groupby('start_station_name').size().reset_index()\n",
    "h1 = h1.rename(columns={0 : 'count'})\n",
    "h1 = h1.sort_values(by = 'count', ascending = False)[0:10]\n",
    "h1"
   ]
  },
  {
   "cell_type": "code",
   "execution_count": 13,
   "metadata": {},
   "outputs": [
    {
     "data": {
      "text/plain": [
       "<matplotlib.axes._subplots.AxesSubplot at 0x1c0df75ba8>"
      ]
     },
     "execution_count": 13,
     "metadata": {},
     "output_type": "execute_result"
    },
    {
     "data": {
      "image/png": "[encoded data removed]",
      "text/plain": [
       "<matplotlib.figure.Figure at 0x107bd1cc0>"
      ]
     },
     "metadata": {},
     "output_type": "display_data"
    }
   ],
   "source": [
    "#PLOTTTING MOST POPULAR STATIONS\n",
    "\n",
    "h1.plot(x = 'start_station_name', y = 'count', kind = 'barh', legend = False)"
   ]
  },
  {
   "cell_type": "code",
   "execution_count": 14,
   "metadata": {},
   "outputs": [
    {
     "data": {
      "text/plain": [
       "Text(0.5,1,'SUM OF TRIP DURATION IN EVERY WEEK OF JANUARY')"
      ]
     },
     "execution_count": 14,
     "metadata": {},
     "output_type": "execute_result"
    },
    {
     "data": {
      "image/png": "[encoded data removed]",
      "text/plain": [
       "<matplotlib.figure.Figure at 0x1c0ed04ac8>"
      ]
     },
     "metadata": {},
     "output_type": "display_data"
    }
   ],
   "source": [
    "#FINDING OUT MOST POPULAR WEEK OF THE MONTH\n",
    "\n",
    "hubway['date_minus_time'] = hubway['starttime'].apply(lambda hubway : datetime.datetime(year = hubway.year, month = hubway.month, day = hubway.day))\n",
    "hubway.set_index(hubway['date_minus_time'], inplace = True)\n",
    "\n",
    "\n",
    "hubway['tripduration'].groupby(hubway['date_minus_time'].dt.week).count().plot(kind = 'bar')\n",
    "plt.xlabel('JANUARY')\n",
    "plt.ylabel('COUNT IN seconds')\n",
    "plt.xticks(np.arange(5), ('week 1', 'week 2', 'week 3', 'week 4', 'week 5'), rotation = 45)\n",
    "plt.title('SUM OF TRIP DURATION IN EVERY WEEK OF JANUARY')\n",
    "\n"
   ]
  },
  {
   "cell_type": "code",
   "execution_count": 15,
   "metadata": {},
   "outputs": [
    {
     "data": {
      "text/plain": [
       "Text(0.5,1,'TOTAL NUMBER OF TRIPS EACH DAY')"
      ]
     },
     "execution_count": 15,
     "metadata": {},
     "output_type": "execute_result"
    },
    {
     "data": {
      "image/png": "[encoded data removed]",
      "text/plain": [
       "<matplotlib.figure.Figure at 0x1c0ed6f0f0>"
      ]
     },
     "metadata": {},
     "output_type": "display_data"
    }
   ],
   "source": [
    "hubway['date_minus_time'].groupby(hubway['date_minus_time'].dt.day).count().plot(kind = 'bar')\n",
    "plt.xlabel('DATE')\n",
    "plt.ylabel('NO.OF TRIPS')\n",
    "plt.title('TOTAL NUMBER OF TRIPS EACH DAY')"
   ]
  },
  {
   "cell_type": "code",
   "execution_count": 16,
   "metadata": {},
   "outputs": [
    {
     "data": {
      "image/png": "[encoded data removed]",
      "text/plain": [
       "<matplotlib.figure.Figure at 0x1c1804e128>"
      ]
     },
     "metadata": {},
     "output_type": "display_data"
    }
   ],
   "source": [
    "#DISTRIBUTION OF USERS ACCORDING TO GENDER\n",
    "\n",
    "hubway['gender'].value_counts().plot(kind='bar')\n",
    "plt.xlabel('GENDER') \n",
    "plt.ylabel('COUNT')\n",
    "plt.title('GENDER DISTRIBUTION')\n",
    "plt.xticks(np.arange(3), ('male', 'female', 'other'), rotation = 0)\n",
    "plt.show()"
   ]
  },
  {
   "cell_type": "code",
   "execution_count": 17,
   "metadata": {},
   "outputs": [
    {
     "data": {
      "text/plain": [
       "([<matplotlib.axis.XTick at 0x1c181a8ef0>,\n",
       "  <matplotlib.axis.XTick at 0x1c18053588>],\n",
       " <a list of 2 Text xticklabel objects>)"
      ]
     },
     "execution_count": 17,
     "metadata": {},
     "output_type": "execute_result"
    },
    {
     "data": {
      "image/png": "[encoded data removed]",
      "text/plain": [
       "<matplotlib.figure.Figure at 0x1c181b28d0>"
      ]
     },
     "metadata": {},
     "output_type": "display_data"
    }
   ],
   "source": [
    "#DISTRIBUTION OF USERS ACCORDING TO USER TYPE\n",
    "\n",
    "hubway['usertype'].value_counts().plot(kind = 'bar')\n",
    "plt.xlabel('TYPES OF USERS')\n",
    "plt.ylabel('COUNT')\n",
    "plt.title('DISTRIBUTION OF USERS ACCORDING TO USER TYPE')\n",
    "plt.xticks(np.arange(2), ('Subscribers', 'Customers'), rotation = 0)"
   ]
  },
  {
   "cell_type": "markdown",
   "metadata": {},
   "source": [
    "## 4. Predictive Analysis"
   ]
  },
  {
   "cell_type": "code",
   "execution_count": 18,
   "metadata": {},
   "outputs": [
    {
     "data": {
      "text/plain": [
       "count      7840.000000\n",
       "mean        647.878444\n",
       "std        3998.551965\n",
       "min          62.000000\n",
       "25%         287.000000\n",
       "50%         406.000000\n",
       "75%         602.000000\n",
       "max      232319.000000\n",
       "Name: tripduration, dtype: float64"
      ]
     },
     "execution_count": 18,
     "metadata": {},
     "output_type": "execute_result"
    }
   ],
   "source": [
    "hubway['tripduration'].describe(include='all')"
   ]
  },
  {
   "cell_type": "markdown",
   "metadata": {},
   "source": [
    "* Minimum trip duration is 62sec (approx 1 minute) and maximum tripduration is 232319sec (approx 60 hours)\n",
    "* On an average each trip is of 647.9sec (approx 10 minutes)"
   ]
  },
  {
   "cell_type": "code",
   "execution_count": 19,
   "metadata": {},
   "outputs": [
    {
     "name": "stdout",
     "output_type": "stream",
     "text": [
      "Intercept       6.991499e-01\n",
      "tripduration    5.245826e-07\n",
      "dtype: float64\n"
     ]
    },
    {
     "data": {
      "text/html": [
       "<table class=\"simpletable\">\n",
       "<caption>OLS Regression Results</caption>\n",
       "<tr>\n",
       "  <th>Dep. Variable:</th>        <td>usertype</td>     <th>  R-squared:         </th> <td>   0.000</td> \n",
       "</tr>\n",
       "<tr>\n",
       "  <th>Model:</th>                   <td>OLS</td>       <th>  Adj. R-squared:    </th> <td>  -0.000</td> \n",
       "</tr>\n",
       "<tr>\n",
       "  <th>Method:</th>             <td>Least Squares</td>  <th>  F-statistic:       </th> <td>  0.1640</td> \n",
       "</tr>\n",
       "<tr>\n",
       "  <th>Date:</th>             <td>Sun, 20 May 2018</td> <th>  Prob (F-statistic):</th>  <td> 0.685</td>  \n",
       "</tr>\n",
       "<tr>\n",
       "  <th>Time:</th>                 <td>17:10:32</td>     <th>  Log-Likelihood:    </th> <td> -5010.5</td> \n",
       "</tr>\n",
       "<tr>\n",
       "  <th>No. Observations:</th>      <td>  7840</td>      <th>  AIC:               </th> <td>1.002e+04</td>\n",
       "</tr>\n",
       "<tr>\n",
       "  <th>Df Residuals:</th>          <td>  7838</td>      <th>  BIC:               </th> <td>1.004e+04</td>\n",
       "</tr>\n",
       "<tr>\n",
       "  <th>Df Model:</th>              <td>     1</td>      <th>                     </th>     <td> </td>    \n",
       "</tr>\n",
       "<tr>\n",
       "  <th>Covariance Type:</th>      <td>nonrobust</td>    <th>                     </th>     <td> </td>    \n",
       "</tr>\n",
       "</table>\n",
       "<table class=\"simpletable\">\n",
       "<tr>\n",
       "        <td></td>          <th>coef</th>     <th>std err</th>      <th>t</th>      <th>P>|t|</th>  <th>[0.025</th>    <th>0.975]</th>  \n",
       "</tr>\n",
       "<tr>\n",
       "  <th>Intercept</th>    <td>    0.6991</td> <td>    0.005</td> <td>  133.269</td> <td> 0.000</td> <td>    0.689</td> <td>    0.709</td>\n",
       "</tr>\n",
       "<tr>\n",
       "  <th>tripduration</th> <td> 5.246e-07</td> <td>  1.3e-06</td> <td>    0.405</td> <td> 0.685</td> <td>-2.01e-06</td> <td> 3.06e-06</td>\n",
       "</tr>\n",
       "</table>\n",
       "<table class=\"simpletable\">\n",
       "<tr>\n",
       "  <th>Omnibus:</th>       <td>11301.673</td> <th>  Durbin-Watson:     </th> <td>   1.946</td>\n",
       "</tr>\n",
       "<tr>\n",
       "  <th>Prob(Omnibus):</th>  <td> 0.000</td>   <th>  Jarque-Bera (JB):  </th> <td>1493.921</td>\n",
       "</tr>\n",
       "<tr>\n",
       "  <th>Skew:</th>           <td>-0.870</td>   <th>  Prob(JB):          </th> <td>    0.00</td>\n",
       "</tr>\n",
       "<tr>\n",
       "  <th>Kurtosis:</th>       <td> 1.757</td>   <th>  Cond. No.          </th> <td>4.10e+03</td>\n",
       "</tr>\n",
       "</table>"
      ],
      "text/plain": [
       "<class 'statsmodels.iolib.summary.Summary'>\n",
       "\"\"\"\n",
       "                            OLS Regression Results                            \n",
       "==============================================================================\n",
       "Dep. Variable:               usertype   R-squared:                       0.000\n",
       "Model:                            OLS   Adj. R-squared:                 -0.000\n",
       "Method:                 Least Squares   F-statistic:                    0.1640\n",
       "Date:                Sun, 20 May 2018   Prob (F-statistic):              0.685\n",
       "Time:                        17:10:32   Log-Likelihood:                -5010.5\n",
       "No. Observations:                7840   AIC:                         1.002e+04\n",
       "Df Residuals:                    7838   BIC:                         1.004e+04\n",
       "Df Model:                           1                                         \n",
       "Covariance Type:            nonrobust                                         \n",
       "================================================================================\n",
       "                   coef    std err          t      P>|t|      [0.025      0.975]\n",
       "--------------------------------------------------------------------------------\n",
       "Intercept        0.6991      0.005    133.269      0.000       0.689       0.709\n",
       "tripduration  5.246e-07    1.3e-06      0.405      0.685   -2.01e-06    3.06e-06\n",
       "==============================================================================\n",
       "Omnibus:                    11301.673   Durbin-Watson:                   1.946\n",
       "Prob(Omnibus):                  0.000   Jarque-Bera (JB):             1493.921\n",
       "Skew:                          -0.870   Prob(JB):                         0.00\n",
       "Kurtosis:                       1.757   Cond. No.                     4.10e+03\n",
       "==============================================================================\n",
       "\n",
       "Warnings:\n",
       "[1] Standard Errors assume that the covariance matrix of the errors is correctly specified.\n",
       "[2] The condition number is large, 4.1e+03. This might indicate that there are\n",
       "strong multicollinearity or other numerical problems.\n",
       "\"\"\""
      ]
     },
     "execution_count": 19,
     "metadata": {},
     "output_type": "execute_result"
    }
   ],
   "source": [
    "#DESCRIPTIVE STATISTICS REGARDING HOW WOULD USER TYPE VARY ACCORDING TO THE TRIPDURATION\n",
    "\n",
    "model1 = smf.OLS.from_formula('usertype ~ tripduration', data = hubway)\n",
    "results = model1.fit()\n",
    "print(results.params)\n",
    "results.summary()"
   ]
  },
  {
   "cell_type": "code",
   "execution_count": 20,
   "metadata": {},
   "outputs": [
    {
     "name": "stderr",
     "output_type": "stream",
     "text": [
      "/anaconda3/lib/python3.6/site-packages/ipykernel_launcher.py:6: DataConversionWarning: A column-vector y was passed when a 1d array was expected. Please change the shape of y to (n_samples,), for example using ravel().\n",
      "  \n"
     ]
    },
    {
     "data": {
      "text/plain": [
       "<matplotlib.legend.Legend at 0x1c188da630>"
      ]
     },
     "execution_count": 20,
     "metadata": {},
     "output_type": "execute_result"
    },
    {
     "data": {
      "image/png": "[encoded data removed]",
      "text/plain": [
       "<matplotlib.figure.Figure at 0x1c18345fd0>"
      ]
     },
     "metadata": {},
     "output_type": "display_data"
    }
   ],
   "source": [
    "#FORECASTING HOW TYPES OF USERS VARY ACCORDING TO TRIPDURATION AND LOCATION OF HUBWAY BIKE STATIONS WHERE 'Subscriber' = 1\n",
    "# AND 'Customer' = 0\n",
    "\n",
    "y, X = dmatrices('usertype ~ tripduration + start_station_latitude + start_station_longitude + end_station_latitude + end_station_longitude', data = hubway)\n",
    "model = sklearn.ensemble.RandomForestClassifier()\n",
    "model.fit(X,y)\n",
    "\n",
    "plt.plot(X[:,1], y, 'r.')\n",
    "plt.plot(X[:,1], model.predict(X), 'g+')\n",
    "plt.xlabel('TRIP DURATION IN seconds')\n",
    "plt.ylabel('TYPES OF USERS (Subscriber/Customer)')\n",
    "plt.legend(['actual trip duration', 'predicted trip duration'], loc = 0)"
   ]
  },
  {
   "cell_type": "code",
   "execution_count": 21,
   "metadata": {},
   "outputs": [
    {
     "name": "stdout",
     "output_type": "stream",
     "text": [
      "             precision    recall  f1-score   support\n",
      "\n",
      "        0.0       0.95      0.95      0.95      2356\n",
      "        1.0       0.98      0.98      0.98      5484\n",
      "\n",
      "avg / total       0.97      0.97      0.97      7840\n",
      "\n"
     ]
    }
   ],
   "source": [
    "print(sklearn.metrics.classification_report(y, model.predict(X)))"
   ]
  },
  {
   "cell_type": "markdown",
   "metadata": {},
   "source": [
    "* With precision score of 0.97 of our random forest classifier model, we can conclude that the user type (subscriber or customer) do not have any visible relation with respect to trip duration and locations of hubway bike statins. Both the type of users are predicted to follow a similar patter, infact according to some outliers in the plot we can see that customers are predicted to exhibit higer trip duration compared to subscriber. Thus I fill the company should take up some unique measures and take some steps towards benefiting their subscribers. This can eventually lead to increase in subscribers and hence winning their trust. "
   ]
  },
  {
   "cell_type": "code",
   "execution_count": null,
   "metadata": {},
   "outputs": [],
   "source": []
  }
 ],
 "metadata": {
  "kernelspec": {
   "display_name": "Python 3",
   "language": "python",
   "name": "python3"
  },
  "language_info": {
   "codemirror_mode": {
    "name": "ipython",
    "version": 3
   },
   "file_extension": ".py",
   "mimetype": "text/x-python",
   "name": "python",
   "nbconvert_exporter": "python",
   "pygments_lexer": "ipython3",
   "version": "3.6.4"
  }
 },
 "nbformat": 4,
 "nbformat_minor": 2
}
